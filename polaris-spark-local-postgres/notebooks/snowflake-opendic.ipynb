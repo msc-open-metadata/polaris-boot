{
 "cells": [
  {
   "cell_type": "code",
   "execution_count": null,
   "id": "66555ffe-f648-4602-966e-1c79a085105b",
   "metadata": {},
   "outputs": [],
   "source": [
    "!pip install snowflake-opendic==0.1.11"
   ]
  },
  {
   "cell_type": "markdown",
   "id": "c3976fab-38bb-4d65-a42e-e8b175c19e39",
   "metadata": {},
   "source": [
    "## Setting up pyspark-opendic"
   ]
  },
  {
   "cell_type": "code",
   "execution_count": 2,
   "id": "a2b1928f-9fd9-4cfa-b58a-5011073efd72",
   "metadata": {},
   "outputs": [
    {
     "name": "stdout",
     "output_type": "stream",
     "text": [
      "Secrets read ✔️\n",
      "Snowflake conn initialized ✔️\n"
     ]
    }
   ],
   "source": [
    "from snowflake_opendic.snow_opendic import snowflake_connect\n",
    "\n",
    "def read_secret(secret_name):\n",
    "    \"\"\" Get `secret_name` from docker-compose secret store\"\"\"\n",
    "    secret_path = f\"/run/secrets/{secret_name}\"\n",
    "    try:\n",
    "        with open(secret_path, \"r\") as f:\n",
    "            return f.read().strip()  # Remove any trailing newline\n",
    "    except FileNotFoundError:\n",
    "        print(f\"Secret {secret_name} not found.\")\n",
    "        return None\n",
    "\n",
    "ENGINEER_CLIENT_ID = read_secret(\"engineer_client_id\")\n",
    "ENGINEER_CLIENT_SECRET = read_secret(\"engineer_client_secret\")\n",
    "\n",
    "print(\"Secrets read ✔️\")\n",
    "\n",
    "config_path = f\"/run/secrets/snowflake-conf\"\n",
    "SNOWFLAKE_CONN = snowflake_connect(config_path)\n",
    "\n",
    "print(\"Snowflake conn initialized ✔️\")"
   ]
  },
  {
   "cell_type": "code",
   "execution_count": 3,
   "id": "7136c083-6e18-475b-a0ad-e5735fdde06b",
   "metadata": {},
   "outputs": [
    {
     "name": "stdout",
     "output_type": "stream",
     "text": [
      "Connection Established | Server: America/Los_Angeles | Latency: 0.346566 ✔︎\n",
      "Catalog initialized ✔️\n"
     ]
    }
   ],
   "source": [
    "from snowflake_opendic.catalog import OpenDicSnowflakeCatalog\n",
    "\n",
    "\n",
    "POLARIS_URI= \"http://polaris:8181/api\"\n",
    "\n",
    "catalog = OpenDicSnowflakeCatalog(SNOWFLAKE_CONN, POLARIS_URI, ENGINEER_CLIENT_ID, ENGINEER_CLIENT_SECRET)\n",
    "print(\"Catalog initialized ✔️\")\n"
   ]
  },
  {
   "cell_type": "code",
   "execution_count": null,
   "id": "7ed20d5e",
   "metadata": {},
   "outputs": [],
   "source": [
    "catalog.sql(\"Show databases\")"
   ]
  },
  {
   "cell_type": "markdown",
   "id": "02b47103-2555-4513-a30b-cbdcad7429e5",
   "metadata": {},
   "source": [
    "## Define the schema for a andfunc object"
   ]
  },
  {
   "cell_type": "code",
   "execution_count": 4,
   "id": "ac89e9db-1ad1-417f-ac8f-8c9620fce730",
   "metadata": {},
   "outputs": [
    {
     "data": {
      "text/markdown": [
       "```json\n",
       "{\n",
       "    \"error\": \"HTTP Error\",\n",
       "    \"details\": \"409 Client Error: Conflict for url: http://polaris:8181/api/opendic/v1/objects\",\n",
       "    \"Catalog Response\": null\n",
       "}\n",
       "```"
      ],
      "text/plain": [
       "{\n",
       "    \"error\": \"HTTP Error\",\n",
       "    \"details\": \"409 Client Error: Conflict for url: http://polaris:8181/api/opendic/v1/objects\",\n",
       "    \"Catalog Response\": null\n",
       "}"
      ]
     },
     "execution_count": 4,
     "metadata": {},
     "output_type": "execute_result"
    }
   ],
   "source": [
    "catalog.sql(\n",
    "    \"\"\"\n",
    "    DEFINE OPEN function_v2\n",
    "    props {\n",
    "        \"args\": \"MAP\",\n",
    "        \"language\": \"STRING\",\n",
    "        \"def\": \"string\",\n",
    "        \"comment\": \"string\",\n",
    "        \"packages\": \"list\",\n",
    "        \"runtime\": \"string\",\n",
    "        \"client_version\": \"int\",\n",
    "        \"signature\": \"STRING\",\n",
    "        \"return_type\": \"STRING\"\n",
    "    }\n",
    "    \"\"\"\n",
    ")"
   ]
  },
  {
   "cell_type": "code",
   "execution_count": 5,
   "id": "d59299eb-fd30-4a7c-9982-8bcad89e3ff6",
   "metadata": {},
   "outputs": [
    {
     "data": {
      "text/markdown": [
       "```json\n",
       "{\n",
       "    \"error\": \"HTTP Error\",\n",
       "    \"details\": \"409 Client Error: Conflict for url: http://polaris:8181/api/opendic/v1/objects/function_v2\",\n",
       "    \"Catalog Response\": null\n",
       "}\n",
       "```"
      ],
      "text/plain": [
       "{\n",
       "    \"error\": \"HTTP Error\",\n",
       "    \"details\": \"409 Client Error: Conflict for url: http://polaris:8181/api/opendic/v1/objects/function_v2\",\n",
       "    \"Catalog Response\": null\n",
       "}"
      ]
     },
     "execution_count": 5,
     "metadata": {},
     "output_type": "execute_result"
    }
   ],
   "source": [
    "catalog.sql(\n",
    " \"\"\"\n",
    " CREATE OPEN function_v2 baz\n",
    "    props {\n",
    "            \"args\": {\n",
    "                \"arg1\": \"int\", \n",
    "                \"arg2\": \"int\"\n",
    "                },\n",
    "            \"language\": \"python\",\n",
    "            \"def\": \"def foo(arg1, arg2):\\\\n\\\\n        return arg1 + arg2\",\n",
    "            \"packages\" : [\"numpy\", \"pandas\"],\n",
    "            \"comment\": \"test fun\",\n",
    "            \"runtime\": \"3.12\",\n",
    "            \"client_version\": 1,\n",
    "            \"return_type\": \"int\",\n",
    "            \"signature\": \"foo(arg1 str, arg2 int)\"\n",
    "        }\n",
    "    \"\"\"\n",
    ")"
   ]
  },
  {
   "cell_type": "code",
   "execution_count": 6,
   "id": "3afbb2ba",
   "metadata": {},
   "outputs": [
    {
     "data": {
      "text/html": [
       "<div>\n",
       "<style scoped>\n",
       "    .dataframe tbody tr th:only-of-type {\n",
       "        vertical-align: middle;\n",
       "    }\n",
       "\n",
       "    .dataframe tbody tr th {\n",
       "        vertical-align: top;\n",
       "    }\n",
       "\n",
       "    .dataframe thead th {\n",
       "        text-align: right;\n",
       "    }\n",
       "</style>\n",
       "<table border=\"1\" class=\"dataframe\">\n",
       "  <thead>\n",
       "    <tr style=\"text-align: right;\">\n",
       "      <th></th>\n",
       "      <th>type</th>\n",
       "      <th>name</th>\n",
       "      <th>props</th>\n",
       "      <th>createdTimestamp</th>\n",
       "      <th>lastUpdatedTimestamp</th>\n",
       "      <th>entityVersion</th>\n",
       "    </tr>\n",
       "  </thead>\n",
       "  <tbody>\n",
       "    <tr>\n",
       "      <th>0</th>\n",
       "      <td>function_v2</td>\n",
       "      <td>baz</td>\n",
       "      <td>{'args': {'arg1': 'int', 'arg2': 'int'}, 'return_type': 'int', 'def': 'def foo(arg1, arg2):\n",
       "\n",
       "        return arg1 + arg2', 'signature': 'foo(arg1 str, arg2 int)', 'runtime': '3.12', 'language': 'python', 'comment': 'test fun', 'packages': ['numpy', 'pandas'], 'client_version': 1}</td>\n",
       "      <td>2025-04-23T10:52:06.574956135Z</td>\n",
       "      <td>2025-04-23T10:52:06.574962385Z</td>\n",
       "      <td>1</td>\n",
       "    </tr>\n",
       "    <tr>\n",
       "      <th>1</th>\n",
       "      <td>function_v2</td>\n",
       "      <td>foo</td>\n",
       "      <td>{'args': {'arg1': 'int', 'arg2': 'int'}, 'return_type': 'int', 'def': 'def foo(arg1, arg2):\n",
       "\n",
       "        return arg1 + arg2', 'signature': 'foo(arg1 str, arg2 int)', 'runtime': '3.12', 'language': 'python', 'comment': 'test fun', 'packages': ['numpy', 'pandas'], 'client_version': 1}</td>\n",
       "      <td>2025-04-21T17:20:34.843932462Z</td>\n",
       "      <td>2025-04-21T17:20:34.843978462Z</td>\n",
       "      <td>1</td>\n",
       "    </tr>\n",
       "    <tr>\n",
       "      <th>2</th>\n",
       "      <td>function_v2</td>\n",
       "      <td>bar</td>\n",
       "      <td>{'args': {'arg1': 'int', 'arg2': 'int'}, 'return_type': 'int', 'def': 'def foo(arg1, arg2):\n",
       "\n",
       "        return arg1 + arg2', 'signature': 'foo(arg1 str, arg2 int)', 'runtime': '3.12', 'language': 'python', 'comment': 'test fun', 'packages': ['numpy', 'pandas'], 'client_version': 1}</td>\n",
       "      <td>2025-04-23T10:27:18.555781335Z</td>\n",
       "      <td>2025-04-23T10:27:18.555784627Z</td>\n",
       "      <td>1</td>\n",
       "    </tr>\n",
       "  </tbody>\n",
       "</table>\n",
       "</div>"
      ],
      "text/plain": [
       "          type name                                                                                                                                                                                                                                                                                    props                createdTimestamp            lastUpdatedTimestamp  entityVersion\n",
       "0  function_v2  baz  {'args': {'arg1': 'int', 'arg2': 'int'}, 'return_type': 'int', 'def': 'def foo(arg1, arg2):\n",
       "\n",
       "        return arg1 + arg2', 'signature': 'foo(arg1 str, arg2 int)', 'runtime': '3.12', 'language': 'python', 'comment': 'test fun', 'packages': ['numpy', 'pandas'], 'client_version': 1}  2025-04-23T10:52:06.574956135Z  2025-04-23T10:52:06.574962385Z              1\n",
       "1  function_v2  foo  {'args': {'arg1': 'int', 'arg2': 'int'}, 'return_type': 'int', 'def': 'def foo(arg1, arg2):\n",
       "\n",
       "        return arg1 + arg2', 'signature': 'foo(arg1 str, arg2 int)', 'runtime': '3.12', 'language': 'python', 'comment': 'test fun', 'packages': ['numpy', 'pandas'], 'client_version': 1}  2025-04-21T17:20:34.843932462Z  2025-04-21T17:20:34.843978462Z              1\n",
       "2  function_v2  bar  {'args': {'arg1': 'int', 'arg2': 'int'}, 'return_type': 'int', 'def': 'def foo(arg1, arg2):\n",
       "\n",
       "        return arg1 + arg2', 'signature': 'foo(arg1 str, arg2 int)', 'runtime': '3.12', 'language': 'python', 'comment': 'test fun', 'packages': ['numpy', 'pandas'], 'client_version': 1}  2025-04-23T10:27:18.555781335Z  2025-04-23T10:27:18.555784627Z              1"
      ]
     },
     "execution_count": 6,
     "metadata": {},
     "output_type": "execute_result"
    }
   ],
   "source": [
    "catalog.sql(\n",
    "    \"\"\"\n",
    "    SHOW OPEN function_v2\n",
    "    \"\"\"\n",
    ")"
   ]
  },
  {
   "cell_type": "code",
   "execution_count": 1,
   "id": "b10bbc64",
   "metadata": {},
   "outputs": [
    {
     "ename": "NameError",
     "evalue": "name 'catalog' is not defined",
     "output_type": "error",
     "traceback": [
      "\u001b[0;31m---------------------------------------------------------------------------\u001b[0m",
      "\u001b[0;31mNameError\u001b[0m                                 Traceback (most recent call last)",
      "Cell \u001b[0;32mIn[1], line 2\u001b[0m\n\u001b[1;32m      1\u001b[0m \u001b[38;5;66;03m# Show all mappings from <object>. Example: [snowflake,spark]\u001b[39;00m\n\u001b[0;32m----> 2\u001b[0m \u001b[43mcatalog\u001b[49m\u001b[38;5;241m.\u001b[39msql(\n\u001b[1;32m      3\u001b[0m \u001b[38;5;250m    \u001b[39m\u001b[38;5;124;03m\"\"\"\u001b[39;00m\n\u001b[1;32m      4\u001b[0m \u001b[38;5;124;03m    SHOW OPEN PLATFORMS FOR function_v2\u001b[39;00m\n\u001b[1;32m      5\u001b[0m \u001b[38;5;124;03m    \"\"\"\u001b[39;00m\n\u001b[1;32m      6\u001b[0m )\n",
      "\u001b[0;31mNameError\u001b[0m: name 'catalog' is not defined"
     ]
    }
   ],
   "source": [
    "# Show all mappings from <object>. Example: [snowflake,spark]\n",
    "catalog.sql(\n",
    "    \"\"\"\n",
    "    SHOW OPEN PLATFORMS FOR function_v2\n",
    "    \"\"\"\n",
    ")"
   ]
  },
  {
   "cell_type": "code",
   "execution_count": 15,
   "id": "9bf544e1-69e2-4954-a01e-fc7f687f8fdd",
   "metadata": {},
   "outputs": [
    {
     "data": {
      "text/markdown": [
       "```json\n",
       "{\n",
       "    \"success\": true,\n",
       "    \"executions\": [\n",
       "        {\n",
       "            \"sql\": \"\\\"CREATE OR ALTER function_v2 foo(arg1 int, arg2 int)\\n            RETURNS int\\n            LANGUAGE python\\n            RUNTIME = 3.12\\n            HANDLER = 'foo'\\n            AS \\n            $$\\n            def foo(arg1, arg2):\\n\\n        return arg1 + arg2\\n            $$\\\",\",\n",
       "            \"status\": \"failed\",\n",
       "            \"error\": \"001003 (42000): SQL compilation error:\\nsyntax error line 1 at position 0 unexpected '\\\"CREATE OR ALTER function_v2 foo(arg1 int, arg2 int)\\n            RETURNS int\\n            LANGUAGE python\\n            RUNTIME = 3.12\\n            HANDLER = 'foo'\\n            AS \\n            $$\\n            def foo(arg1, arg2):\\n\\n        return arg1 + arg2\\n            $$\\\"'.\"\n",
       "        },\n",
       "        {\n",
       "            \"sql\": \"\\\"CREATE OR ALTER function_v2 bar(arg1 int, arg2 int)\\n            RETURNS int\\n            LANGUAGE python\\n            RUNTIME = 3.12\\n            HANDLER = 'bar'\\n            AS \\n            $$\\n            def foo(arg1, arg2):\\n\\n        return arg1 + arg2\\n            $$\\\",\",\n",
       "            \"status\": \"failed\",\n",
       "            \"error\": \"001003 (42000): SQL compilation error:\\nsyntax error line 1 at position 0 unexpected '\\\"CREATE OR ALTER function_v2 bar(arg1 int, arg2 int)\\n            RETURNS int\\n            LANGUAGE python\\n            RUNTIME = 3.12\\n            HANDLER = 'bar'\\n            AS \\n            $$\\n            def foo(arg1, arg2):\\n\\n        return arg1 + arg2\\n            $$\\\"'.\"\n",
       "        },\n",
       "        {\n",
       "            \"sql\": \"\\\"CREATE OR ALTER function_v2 baz(arg1 int, arg2 int)\\n            RETURNS int\\n            LANGUAGE python\\n            RUNTIME = 3.12\\n            HANDLER = 'baz'\\n            AS \\n            $$\\n            def foo(arg1, arg2):\\n\\n        return arg1 + arg2\\n            $$\\\",\",\n",
       "            \"status\": \"failed\",\n",
       "            \"error\": \"001003 (42000): SQL compilation error:\\nsyntax error line 1 at position 0 unexpected '\\\"CREATE OR ALTER function_v2 baz(arg1 int, arg2 int)\\n            RETURNS int\\n            LANGUAGE python\\n            RUNTIME = 3.12\\n            HANDLER = 'baz'\\n            AS \\n            $$\\n            def foo(arg1, arg2):\\n\\n        return arg1 + arg2\\n            $$\\\"'.\"\n",
       "        }\n",
       "    ]\n",
       "}\n",
       "```"
      ],
      "text/plain": [
       "{\n",
       "    \"success\": true,\n",
       "    \"executions\": [\n",
       "        {\n",
       "            \"sql\": \"\\\"CREATE OR ALTER function_v2 foo(arg1 int, arg2 int)\\n            RETURNS int\\n            LANGUAGE python\\n            RUNTIME = 3.12\\n            HANDLER = 'foo'\\n            AS \\n            $$\\n            def foo(arg1, arg2):\\n\\n        return arg1 + arg2\\n            $$\\\",\",\n",
       "            \"status\": \"failed\",\n",
       "            \"error\": \"001003 (42000): SQL compilation error:\\nsyntax error line 1 at position 0 unexpected '\\\"CREATE OR ALTER function_v2 foo(arg1 int, arg2 int)\\n            RETURNS int\\n            LANGUAGE python\\n            RUNTIME = 3.12\\n            HANDLER = 'foo'\\n            AS \\n            $$\\n            def foo(arg1, arg2):\\n\\n        return arg1 + arg2\\n            $$\\\"'.\"\n",
       "        },\n",
       "        {\n",
       "            \"sql\": \"\\\"CREATE OR ALTER function_v2 bar(arg1 int, arg2 int)\\n            RETURNS int\\n            LANGUAGE python\\n            RUNTIME = 3.12\\n            HANDLER = 'bar'\\n            AS \\n            $$\\n            def foo(arg1, arg2):\\n\\n        return arg1 + arg2\\n            $$\\\",\",\n",
       "            \"status\": \"failed\",\n",
       "            \"error\": \"001003 (42000): SQL compilation error:\\nsyntax error line 1 at position 0 unexpected '\\\"CREATE OR ALTER function_v2 bar(arg1 int, arg2 int)\\n            RETURNS int\\n            LANGUAGE python\\n            RUNTIME = 3.12\\n            HANDLER = 'bar'\\n            AS \\n            $$\\n            def foo(arg1, arg2):\\n\\n        return arg1 + arg2\\n            $$\\\"'.\"\n",
       "        },\n",
       "        {\n",
       "            \"sql\": \"\\\"CREATE OR ALTER function_v2 baz(arg1 int, arg2 int)\\n            RETURNS int\\n            LANGUAGE python\\n            RUNTIME = 3.12\\n            HANDLER = 'baz'\\n            AS \\n            $$\\n            def foo(arg1, arg2):\\n\\n        return arg1 + arg2\\n            $$\\\",\",\n",
       "            \"status\": \"failed\",\n",
       "            \"error\": \"001003 (42000): SQL compilation error:\\nsyntax error line 1 at position 0 unexpected '\\\"CREATE OR ALTER function_v2 baz(arg1 int, arg2 int)\\n            RETURNS int\\n            LANGUAGE python\\n            RUNTIME = 3.12\\n            HANDLER = 'baz'\\n            AS \\n            $$\\n            def foo(arg1, arg2):\\n\\n        return arg1 + arg2\\n            $$\\\"'.\"\n",
       "        }\n",
       "    ]\n",
       "}"
      ]
     },
     "execution_count": 15,
     "metadata": {},
     "output_type": "execute_result"
    }
   ],
   "source": [
    "catalog.sql(\n",
    "    \"\"\"\n",
    "    SYNC OPEN function_v2 for snowflake\n",
    "    \"\"\"\n",
    ")"
   ]
  },
  {
   "cell_type": "markdown",
   "id": "472a36f4-d92f-485d-b03c-bc9341b6454d",
   "metadata": {},
   "source": [
    "## Drop object and mapping"
   ]
  },
  {
   "cell_type": "code",
   "execution_count": null,
   "id": "bbf3dc6f-2a73-4487-9a9a-1d4057a46b34",
   "metadata": {},
   "outputs": [],
   "source": [
    "catalog.sql(\n",
    "    \"\"\"\n",
    "    DROP OPEN function_v2\n",
    "    \"\"\"\n",
    ")"
   ]
  },
  {
   "cell_type": "code",
   "execution_count": null,
   "id": "d59972de-9587-4f14-8f0b-dafccc9ee4cc",
   "metadata": {},
   "outputs": [],
   "source": [
    "catalog.sql(\n",
    "    \"\"\"\n",
    "    DROP OPEN MAPPINGS for snowflake\n",
    "    \"\"\"\n",
    ")"
   ]
  }
 ],
 "metadata": {
  "kernelspec": {
   "display_name": "Python 3 (ipykernel)",
   "language": "python",
   "name": "python3"
  },
  "language_info": {
   "codemirror_mode": {
    "name": "ipython",
    "version": 3
   },
   "file_extension": ".py",
   "mimetype": "text/x-python",
   "name": "python",
   "nbconvert_exporter": "python",
   "pygments_lexer": "ipython3",
   "version": "3.10.16"
  }
 },
 "nbformat": 4,
 "nbformat_minor": 5
}
