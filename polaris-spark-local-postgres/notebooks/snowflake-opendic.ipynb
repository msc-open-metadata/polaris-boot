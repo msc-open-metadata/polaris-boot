{
 "cells": [
  {
   "cell_type": "code",
   "execution_count": 1,
   "id": "66555ffe-f648-4602-966e-1c79a085105b",
   "metadata": {},
   "outputs": [
    {
     "name": "stdout",
     "output_type": "stream",
     "text": [
      "Collecting snowflake-opendic==0.1.21\n",
      "  Downloading snowflake_opendic-0.1.21-py3-none-any.whl (10 kB)\n",
      "Requirement already satisfied: pandas>=2.2.3 in /usr/local/lib/python3.10/site-packages (from snowflake-opendic==0.1.21) (2.2.3)\n",
      "Collecting snowflake-connector-python[pandas]>=3.13.2\n",
      "  Downloading snowflake_connector_python-3.15.0-cp310-cp310-manylinux_2_17_aarch64.manylinux2014_aarch64.whl (2.6 MB)\n",
      "\u001b[2K     \u001b[90m━━━━━━━━━━━━━━━━━━━━━━━━━━━━━━━━━━━━━━━━\u001b[0m \u001b[32m2.6/2.6 MB\u001b[0m \u001b[31m5.9 MB/s\u001b[0m eta \u001b[36m0:00:00\u001b[0m00:01\u001b[0m00:01\u001b[0m\n",
      "Collecting toml>=0.10.2\n",
      "  Downloading toml-0.10.2-py2.py3-none-any.whl (16 kB)\n",
      "Collecting pydantic>=2.11.3\n",
      "  Downloading pydantic-2.11.4-py3-none-any.whl (443 kB)\n",
      "\u001b[2K     \u001b[90m━━━━━━━━━━━━━━━━━━━━━━━━━━━━━━━━━━━━━━━\u001b[0m \u001b[32m443.9/443.9 kB\u001b[0m \u001b[31m9.7 MB/s\u001b[0m eta \u001b[36m0:00:00\u001b[0ma \u001b[36m0:00:01\u001b[0m\n",
      "Requirement already satisfied: numpy>=1.22.4 in /usr/local/lib/python3.10/site-packages (from pandas>=2.2.3->snowflake-opendic==0.1.21) (1.26.4)\n",
      "Requirement already satisfied: pytz>=2020.1 in /usr/local/lib/python3.10/site-packages (from pandas>=2.2.3->snowflake-opendic==0.1.21) (2025.1)\n",
      "Requirement already satisfied: tzdata>=2022.7 in /usr/local/lib/python3.10/site-packages (from pandas>=2.2.3->snowflake-opendic==0.1.21) (2025.1)\n",
      "Requirement already satisfied: python-dateutil>=2.8.2 in /usr/local/lib/python3.10/site-packages (from pandas>=2.2.3->snowflake-opendic==0.1.21) (2.9.0.post0)\n",
      "Requirement already satisfied: typing-extensions>=4.12.2 in /usr/local/lib/python3.10/site-packages (from pydantic>=2.11.3->snowflake-opendic==0.1.21) (4.12.2)\n",
      "Collecting typing-inspection>=0.4.0\n",
      "  Downloading typing_inspection-0.4.0-py3-none-any.whl (14 kB)\n",
      "Requirement already satisfied: annotated-types>=0.6.0 in /usr/local/lib/python3.10/site-packages (from pydantic>=2.11.3->snowflake-opendic==0.1.21) (0.7.0)\n",
      "Collecting pydantic-core==2.33.2\n",
      "  Downloading pydantic_core-2.33.2-cp310-cp310-manylinux_2_17_aarch64.manylinux2014_aarch64.whl (1.9 MB)\n",
      "\u001b[2K     \u001b[90m━━━━━━━━━━━━━━━━━━━━━━━━━━━━━━━━━━━━━━━━\u001b[0m \u001b[32m1.9/1.9 MB\u001b[0m \u001b[31m8.7 MB/s\u001b[0m eta \u001b[36m0:00:00\u001b[0m00:01\u001b[0m00:01\u001b[0mm\n",
      "Collecting asn1crypto<2.0.0,>0.24.0\n",
      "  Downloading asn1crypto-1.5.1-py2.py3-none-any.whl (105 kB)\n",
      "\u001b[2K     \u001b[90m━━━━━━━━━━━━━━━━━━━━━━━━━━━━━━━━━━━━━━\u001b[0m \u001b[32m105.0/105.0 kB\u001b[0m \u001b[31m19.8 MB/s\u001b[0m eta \u001b[36m0:00:00\u001b[0m\n",
      "\u001b[?25hRequirement already satisfied: idna<4,>=2.5 in /usr/local/lib/python3.10/site-packages (from snowflake-connector-python[pandas]>=3.13.2->snowflake-opendic==0.1.21) (3.10)\n",
      "Requirement already satisfied: charset_normalizer<4,>=2 in /usr/local/lib/python3.10/site-packages (from snowflake-connector-python[pandas]>=3.13.2->snowflake-opendic==0.1.21) (3.4.1)\n",
      "Requirement already satisfied: sortedcontainers>=2.4.0 in /usr/local/lib/python3.10/site-packages (from snowflake-connector-python[pandas]>=3.13.2->snowflake-opendic==0.1.21) (2.4.0)\n",
      "Collecting pyjwt<3.0.0\n",
      "  Downloading PyJWT-2.10.1-py3-none-any.whl (22 kB)\n",
      "Requirement already satisfied: certifi>=2017.4.17 in /usr/local/lib/python3.10/site-packages (from snowflake-connector-python[pandas]>=3.13.2->snowflake-opendic==0.1.21) (2025.1.31)\n",
      "Requirement already satisfied: packaging in /usr/local/lib/python3.10/site-packages (from snowflake-connector-python[pandas]>=3.13.2->snowflake-opendic==0.1.21) (24.2)\n",
      "Collecting tomlkit\n",
      "  Downloading tomlkit-0.13.2-py3-none-any.whl (37 kB)\n",
      "Requirement already satisfied: platformdirs<5.0.0,>=2.6.0 in /usr/local/lib/python3.10/site-packages (from snowflake-connector-python[pandas]>=3.13.2->snowflake-opendic==0.1.21) (4.3.6)\n",
      "Collecting botocore>=1.24\n",
      "  Downloading botocore-1.38.6-py3-none-any.whl (13.5 MB)\n",
      "\u001b[2K     \u001b[90m━━━━━━━━━━━━━━━━━━━━━━━━━━━━━━━━━━━━━━━━\u001b[0m \u001b[32m13.5/13.5 MB\u001b[0m \u001b[31m19.9 MB/s\u001b[0m eta \u001b[36m0:00:00\u001b[0ma \u001b[36m0:00:01\u001b[0m\n",
      "\u001b[?25hRequirement already satisfied: requests<3.0.0 in /usr/local/lib/python3.10/site-packages (from snowflake-connector-python[pandas]>=3.13.2->snowflake-opendic==0.1.21) (2.32.3)\n",
      "Collecting filelock<4,>=3.5\n",
      "  Downloading filelock-3.18.0-py3-none-any.whl (16 kB)\n",
      "Collecting boto3>=1.24\n",
      "  Downloading boto3-1.38.6-py3-none-any.whl (139 kB)\n",
      "\u001b[2K     \u001b[90m━━━━━━━━━━━━━━━━━━━━━━━━━━━━━━━━━━━━━━\u001b[0m \u001b[32m139.9/139.9 kB\u001b[0m \u001b[31m17.5 MB/s\u001b[0m eta \u001b[36m0:00:00\u001b[0m\n",
      "Collecting pyOpenSSL<26.0.0,>=22.0.0\n",
      "  Downloading pyOpenSSL-25.0.0-py3-none-any.whl (56 kB)\n",
      "\u001b[2K     \u001b[90m━━━━━━━━━━━━━━━━━━━━━━━━━━━━━━━━━━━━━━━━\u001b[0m \u001b[32m56.5/56.5 kB\u001b[0m \u001b[31m15.2 MB/s\u001b[0m eta \u001b[36m0:00:00\u001b[0m\n",
      "\u001b[?25hRequirement already satisfied: cffi<2.0.0,>=1.9 in /usr/local/lib/python3.10/site-packages (from snowflake-connector-python[pandas]>=3.13.2->snowflake-opendic==0.1.21) (1.17.1)\n",
      "Collecting cryptography>=3.1.0\n",
      "  Downloading cryptography-44.0.2-cp39-abi3-manylinux_2_28_aarch64.whl (4.0 MB)\n",
      "\u001b[2K     \u001b[90m━━━━━━━━━━━━━━━━━━━━━━━━━━━━━━━━━━━━━━━━\u001b[0m \u001b[32m4.0/4.0 MB\u001b[0m \u001b[31m26.6 MB/s\u001b[0m eta \u001b[36m0:00:00\u001b[0ma \u001b[36m0:00:01\u001b[0m\n",
      "\u001b[?25hRequirement already satisfied: pyarrow<19.0.0 in /usr/local/lib/python3.10/site-packages (from snowflake-connector-python[pandas]>=3.13.2->snowflake-opendic==0.1.21) (17.0.0)\n",
      "Collecting jmespath<2.0.0,>=0.7.1\n",
      "  Downloading jmespath-1.0.1-py3-none-any.whl (20 kB)\n",
      "Collecting s3transfer<0.13.0,>=0.12.0\n",
      "  Downloading s3transfer-0.12.0-py3-none-any.whl (84 kB)\n",
      "\u001b[2K     \u001b[90m━━━━━━━━━━━━━━━━━━━━━━━━━━━━━━━━━━━━━━━━\u001b[0m \u001b[32m84.8/84.8 kB\u001b[0m \u001b[31m32.4 MB/s\u001b[0m eta \u001b[36m0:00:00\u001b[0m\n",
      "Requirement already satisfied: urllib3!=2.2.0,<3,>=1.25.4 in /usr/local/lib/python3.10/site-packages (from botocore>=1.24->snowflake-connector-python[pandas]>=3.13.2->snowflake-opendic==0.1.21) (2.3.0)\n",
      "Requirement already satisfied: pycparser in /usr/local/lib/python3.10/site-packages (from cffi<2.0.0,>=1.9->snowflake-connector-python[pandas]>=3.13.2->snowflake-opendic==0.1.21) (2.22)\n",
      "Requirement already satisfied: six>=1.5 in /usr/local/lib/python3.10/site-packages (from python-dateutil>=2.8.2->pandas>=2.2.3->snowflake-opendic==0.1.21) (1.17.0)\n",
      "Installing collected packages: asn1crypto, typing-inspection, tomlkit, toml, pyjwt, pydantic-core, jmespath, filelock, pydantic, cryptography, botocore, s3transfer, pyOpenSSL, boto3, snowflake-connector-python, snowflake-opendic\n",
      "  Attempting uninstall: pydantic-core\n",
      "    Found existing installation: pydantic_core 2.27.2\n",
      "    Uninstalling pydantic_core-2.27.2:\n",
      "      Successfully uninstalled pydantic_core-2.27.2\n",
      "  Attempting uninstall: pydantic\n",
      "    Found existing installation: pydantic 2.10.6\n",
      "    Uninstalling pydantic-2.10.6:\n",
      "      Successfully uninstalled pydantic-2.10.6\n",
      "Successfully installed asn1crypto-1.5.1 boto3-1.38.6 botocore-1.38.6 cryptography-44.0.2 filelock-3.18.0 jmespath-1.0.1 pyOpenSSL-25.0.0 pydantic-2.11.4 pydantic-core-2.33.2 pyjwt-2.10.1 s3transfer-0.12.0 snowflake-connector-python-3.15.0 snowflake-opendic-0.1.21 toml-0.10.2 tomlkit-0.13.2 typing-inspection-0.4.0\n",
      "\u001b[33mWARNING: Running pip as the 'root' user can result in broken permissions and conflicting behaviour with the system package manager. It is recommended to use a virtual environment instead: https://pip.pypa.io/warnings/venv\u001b[0m\u001b[33m\n",
      "\u001b[0m\n",
      "\u001b[1m[\u001b[0m\u001b[34;49mnotice\u001b[0m\u001b[1;39;49m]\u001b[0m\u001b[39;49m A new release of pip is available: \u001b[0m\u001b[31;49m23.0.1\u001b[0m\u001b[39;49m -> \u001b[0m\u001b[32;49m25.1\u001b[0m\n",
      "\u001b[1m[\u001b[0m\u001b[34;49mnotice\u001b[0m\u001b[1;39;49m]\u001b[0m\u001b[39;49m To update, run: \u001b[0m\u001b[32;49mpip install --upgrade pip\u001b[0m\n"
     ]
    }
   ],
   "source": [
    "!pip install snowflake-opendic==0.1.21"
   ]
  },
  {
   "cell_type": "markdown",
   "id": "c3976fab-38bb-4d65-a42e-e8b175c19e39",
   "metadata": {},
   "source": [
    "## Setting up pyspark-opendic"
   ]
  },
  {
   "cell_type": "code",
   "execution_count": 6,
   "id": "a2b1928f-9fd9-4cfa-b58a-5011073efd72",
   "metadata": {},
   "outputs": [
    {
     "name": "stdout",
     "output_type": "stream",
     "text": [
      "Secrets read ✔️\n",
      "Snowflake conn initialized ✔️\n"
     ]
    }
   ],
   "source": [
    "from snowflake_opendic.snow_opendic import snowflake_connect\n",
    "\n",
    "def read_secret(secret_name):\n",
    "    \"\"\" Get `secret_name` from docker-compose secret store\"\"\"\n",
    "    secret_path = f\"/run/secrets/{secret_name}\"\n",
    "    try:\n",
    "        with open(secret_path, \"r\") as f:\n",
    "            return f.read().strip()  # Remove any trailing newline\n",
    "    except FileNotFoundError:\n",
    "        print(f\"Secret {secret_name} not found.\")\n",
    "        return None\n",
    "\n",
    "def snowflake_init_db(conn):\n",
    "    with conn.cursor() as curr:\n",
    "        curr.execute(\"CREATE DATABASE IF NOT EXISTS OPENDIC;\")\n",
    "        curr.execute(\"use OPENDIC;\")\n",
    "        curr.execute(\"CREATE SCHEMA IF NOT EXISTS EXPERIMENT;\")\n",
    "\n",
    "ENGINEER_CLIENT_ID = read_secret(\"engineer_client_id\")\n",
    "ENGINEER_CLIENT_SECRET = read_secret(\"engineer_client_secret\")\n",
    "\n",
    "print(\"Secrets read ✔️\")\n",
    "\n",
    "config_path = f\"/run/secrets/snowflake-conf\"\n",
    "SNOWFLAKE_CONN = snowflake_connect(config_path)\n",
    "snowflake_init_db(SNOWFLAKE_CONN)\n",
    "\n",
    "print(\"Snowflake conn initialized ✔️\")"
   ]
  },
  {
   "cell_type": "code",
   "execution_count": 7,
   "id": "7136c083-6e18-475b-a0ad-e5735fdde06b",
   "metadata": {},
   "outputs": [
    {
     "name": "stdout",
     "output_type": "stream",
     "text": [
      "Connection Established | Server: America/Los_Angeles | Latency: 0.383338 ✔︎\n",
      "Catalog initialized ✔️\n"
     ]
    }
   ],
   "source": [
    "from snowflake_opendic.catalog import OpenDicSnowflakeCatalog\n",
    "\n",
    "\n",
    "POLARIS_URI= \"http://polaris:8181/api\"\n",
    "\n",
    "catalog = OpenDicSnowflakeCatalog(SNOWFLAKE_CONN, POLARIS_URI, ENGINEER_CLIENT_ID, ENGINEER_CLIENT_SECRET)\n",
    "print(\"Catalog initialized ✔️\")\n"
   ]
  },
  {
   "cell_type": "code",
   "execution_count": 8,
   "id": "7ed20d5e",
   "metadata": {},
   "outputs": [
    {
     "data": {
      "text/plain": [
       "[(datetime.datetime(2025, 5, 1, 8, 16, 55, 6000, tzinfo=<DstTzInfo 'America/Los_Angeles' PDT-1 day, 17:00:00 DST>),\n",
       "  'EXPERIMENT',\n",
       "  'N',\n",
       "  'N',\n",
       "  'OPENDIC',\n",
       "  'TRAINING_ROLE',\n",
       "  '',\n",
       "  '',\n",
       "  '1',\n",
       "  'ROLE',\n",
       "  None,\n",
       "  None,\n",
       "  None,\n",
       "  None,\n",
       "  None),\n",
       " (datetime.datetime(2025, 5, 1, 8, 20, 36, 220000, tzinfo=<DstTzInfo 'America/Los_Angeles' PDT-1 day, 17:00:00 DST>),\n",
       "  'INFORMATION_SCHEMA',\n",
       "  'N',\n",
       "  'N',\n",
       "  'OPENDIC',\n",
       "  '',\n",
       "  'Views describing the contents of schemas in this database',\n",
       "  '',\n",
       "  '1',\n",
       "  '',\n",
       "  None,\n",
       "  None,\n",
       "  None,\n",
       "  None,\n",
       "  None),\n",
       " (datetime.datetime(2025, 5, 1, 8, 16, 54, 621000, tzinfo=<DstTzInfo 'America/Los_Angeles' PDT-1 day, 17:00:00 DST>),\n",
       "  'PUBLIC',\n",
       "  'N',\n",
       "  'Y',\n",
       "  'OPENDIC',\n",
       "  'TRAINING_ROLE',\n",
       "  '',\n",
       "  '',\n",
       "  '1',\n",
       "  'ROLE',\n",
       "  None,\n",
       "  None,\n",
       "  None,\n",
       "  None,\n",
       "  None)]"
      ]
     },
     "execution_count": 8,
     "metadata": {},
     "output_type": "execute_result"
    }
   ],
   "source": [
    "catalog.sql(\"Show schemas\")"
   ]
  },
  {
   "cell_type": "markdown",
   "id": "02b47103-2555-4513-a30b-cbdcad7429e5",
   "metadata": {},
   "source": [
    "## Define the schema for a andfunc object"
   ]
  },
  {
   "cell_type": "code",
   "execution_count": 30,
   "id": "ac89e9db-1ad1-417f-ac8f-8c9620fce730",
   "metadata": {},
   "outputs": [
    {
     "data": {
      "text/html": [
       "<div>\n",
       "<style scoped>\n",
       "    .dataframe tbody tr th:only-of-type {\n",
       "        vertical-align: middle;\n",
       "    }\n",
       "\n",
       "    .dataframe tbody tr th {\n",
       "        vertical-align: top;\n",
       "    }\n",
       "\n",
       "    .dataframe thead th {\n",
       "        text-align: right;\n",
       "    }\n",
       "</style>\n",
       "<table border=\"1\" class=\"dataframe\">\n",
       "  <thead>\n",
       "    <tr style=\"text-align: right;\">\n",
       "      <th></th>\n",
       "      <th>udoType</th>\n",
       "      <th>properties</th>\n",
       "      <th>createdTimestamp</th>\n",
       "      <th>lastUpdatedTimestamp</th>\n",
       "      <th>version</th>\n",
       "    </tr>\n",
       "  </thead>\n",
       "  <tbody>\n",
       "    <tr>\n",
       "      <th>0</th>\n",
       "      <td>function_v2</td>\n",
       "      <td>{'return_type': 'STRING', 'created_time': 'STRING', 'entity_version': 'STRING', 'uname': 'STRING', 'def': 'STRING', 'signature': 'STRING', 'runtime': 'STRING', 'language': 'STRING', 'packages': 'STRING', 'args': 'STRING', 'last_updated_time': 'STRING', 'comment': 'STRING', 'client_version': 'STRING'}</td>\n",
       "      <td>1970-01-01T00:00Z</td>\n",
       "      <td>1970-01-01T00:00Z</td>\n",
       "      <td>None</td>\n",
       "    </tr>\n",
       "  </tbody>\n",
       "</table>\n",
       "</div>"
      ],
      "text/plain": [
       "       udoType                                                                                                                                                                                                                                                                                                     properties   createdTimestamp lastUpdatedTimestamp version\n",
       "0  function_v2  {'return_type': 'STRING', 'created_time': 'STRING', 'entity_version': 'STRING', 'uname': 'STRING', 'def': 'STRING', 'signature': 'STRING', 'runtime': 'STRING', 'language': 'STRING', 'packages': 'STRING', 'args': 'STRING', 'last_updated_time': 'STRING', 'comment': 'STRING', 'client_version': 'STRING'}  1970-01-01T00:00Z    1970-01-01T00:00Z    None"
      ]
     },
     "execution_count": 30,
     "metadata": {},
     "output_type": "execute_result"
    }
   ],
   "source": [
    "catalog.sql(\n",
    "    \"\"\"\n",
    "    DEFINE OPEN function_v2\n",
    "    props {\n",
    "        \"args\": \"MAP\",\n",
    "        \"language\": \"STRING\",\n",
    "        \"def\": \"string\",\n",
    "        \"comment\": \"string\",\n",
    "        \"packages\": \"list\",\n",
    "        \"runtime\": \"string\",\n",
    "        \"client_version\": \"int\",\n",
    "        \"signature\": \"STRING\",\n",
    "        \"return_type\": \"STRING\"\n",
    "    }\n",
    "    \"\"\"\n",
    ")"
   ]
  },
  {
   "cell_type": "code",
   "execution_count": 31,
   "id": "d59299eb-fd30-4a7c-9982-8bcad89e3ff6",
   "metadata": {},
   "outputs": [
    {
     "data": {
      "text/html": [
       "<div>\n",
       "<style scoped>\n",
       "    .dataframe tbody tr th:only-of-type {\n",
       "        vertical-align: middle;\n",
       "    }\n",
       "\n",
       "    .dataframe tbody tr th {\n",
       "        vertical-align: top;\n",
       "    }\n",
       "\n",
       "    .dataframe thead th {\n",
       "        text-align: right;\n",
       "    }\n",
       "</style>\n",
       "<table border=\"1\" class=\"dataframe\">\n",
       "  <thead>\n",
       "    <tr style=\"text-align: right;\">\n",
       "      <th></th>\n",
       "      <th>type-name</th>\n",
       "      <th>object-name</th>\n",
       "      <th>props</th>\n",
       "      <th>created-time-stamp</th>\n",
       "      <th>last-updated-time-stamp</th>\n",
       "      <th>entity-version</th>\n",
       "    </tr>\n",
       "  </thead>\n",
       "  <tbody>\n",
       "    <tr>\n",
       "      <th>0</th>\n",
       "      <td>function_v2</td>\n",
       "      <td>baz</td>\n",
       "      <td>{'args': {'arg1': 'int', 'arg2': 'int'}, 'return_type': 'int', 'def': 'def baz(arg1, arg2):\n",
       "        return arg1 + arg2', 'signature': 'baz(arg1 str, arg2 int)', 'runtime': '3.12', 'language': 'python', 'comment': 'test fun', 'packages': ['numpy', 'pandas'], 'client_version': 1}</td>\n",
       "      <td>2025-05-01T15:24:35.281060138Z</td>\n",
       "      <td>2025-05-01T15:24:35.281063263Z</td>\n",
       "      <td>1</td>\n",
       "    </tr>\n",
       "  </tbody>\n",
       "</table>\n",
       "</div>"
      ],
      "text/plain": [
       "     type-name object-name                                                                                                                                                                                                                                                                                   props              created-time-stamp         last-updated-time-stamp  entity-version\n",
       "0  function_v2         baz  {'args': {'arg1': 'int', 'arg2': 'int'}, 'return_type': 'int', 'def': 'def baz(arg1, arg2):\n",
       "        return arg1 + arg2', 'signature': 'baz(arg1 str, arg2 int)', 'runtime': '3.12', 'language': 'python', 'comment': 'test fun', 'packages': ['numpy', 'pandas'], 'client_version': 1}  2025-05-01T15:24:35.281060138Z  2025-05-01T15:24:35.281063263Z               1"
      ]
     },
     "execution_count": 31,
     "metadata": {},
     "output_type": "execute_result"
    }
   ],
   "source": [
    "catalog.sql(\n",
    " \"\"\"\n",
    " CREATE OPEN function_v2 baz\n",
    "    props {\n",
    "            \"args\": {\n",
    "                \"arg1\": \"int\", \n",
    "                \"arg2\": \"int\"\n",
    "                },\n",
    "            \"language\": \"python\",\n",
    "            \"def\": \"def baz(arg1, arg2):\\\\n        return arg1 + arg2\",\n",
    "            \"packages\" : [\"numpy\", \"pandas\"],\n",
    "            \"comment\": \"test fun\",\n",
    "            \"runtime\": \"3.12\",\n",
    "            \"client_version\": 1,\n",
    "            \"return_type\": \"int\",\n",
    "            \"signature\": \"baz(arg1 str, arg2 int)\"\n",
    "        }\n",
    "    \"\"\"\n",
    ")"
   ]
  },
  {
   "cell_type": "code",
   "execution_count": 24,
   "id": "3afbb2ba",
   "metadata": {},
   "outputs": [
    {
     "data": {
      "text/html": [
       "<div>\n",
       "<style scoped>\n",
       "    .dataframe tbody tr th:only-of-type {\n",
       "        vertical-align: middle;\n",
       "    }\n",
       "\n",
       "    .dataframe tbody tr th {\n",
       "        vertical-align: top;\n",
       "    }\n",
       "\n",
       "    .dataframe thead th {\n",
       "        text-align: right;\n",
       "    }\n",
       "</style>\n",
       "<table border=\"1\" class=\"dataframe\">\n",
       "  <thead>\n",
       "    <tr style=\"text-align: right;\">\n",
       "      <th></th>\n",
       "      <th>type</th>\n",
       "      <th>name</th>\n",
       "      <th>props</th>\n",
       "      <th>createdTimestamp</th>\n",
       "      <th>lastUpdatedTimestamp</th>\n",
       "      <th>entityVersion</th>\n",
       "    </tr>\n",
       "  </thead>\n",
       "  <tbody>\n",
       "    <tr>\n",
       "      <th>0</th>\n",
       "      <td>function_v2</td>\n",
       "      <td>baz</td>\n",
       "      <td>{'args': {'arg1': 'int', 'arg2': 'int'}, 'return_type': 'int', 'def': 'def baz(arg1, arg2):\n",
       "\n",
       "        return arg1 + arg2', 'signature': 'foo(arg1 str, arg2 int)', 'runtime': '3.12', 'language': 'python', 'comment': 'test fun', 'packages': ['numpy', 'pandas'], 'client_version': 1}</td>\n",
       "      <td>2025-05-01T15:22:31.247830094Z</td>\n",
       "      <td>2025-05-01T15:22:31.247833636Z</td>\n",
       "      <td>1</td>\n",
       "    </tr>\n",
       "  </tbody>\n",
       "</table>\n",
       "</div>"
      ],
      "text/plain": [
       "          type name                                                                                                                                                                                                                                                                                    props                createdTimestamp            lastUpdatedTimestamp  entityVersion\n",
       "0  function_v2  baz  {'args': {'arg1': 'int', 'arg2': 'int'}, 'return_type': 'int', 'def': 'def baz(arg1, arg2):\n",
       "\n",
       "        return arg1 + arg2', 'signature': 'foo(arg1 str, arg2 int)', 'runtime': '3.12', 'language': 'python', 'comment': 'test fun', 'packages': ['numpy', 'pandas'], 'client_version': 1}  2025-05-01T15:22:31.247830094Z  2025-05-01T15:22:31.247833636Z              1"
      ]
     },
     "execution_count": 24,
     "metadata": {},
     "output_type": "execute_result"
    }
   ],
   "source": [
    "catalog.sql(\n",
    "    \"\"\"\n",
    "    SHOW OPEN function_v2\n",
    "    \"\"\"\n",
    ")"
   ]
  },
  {
   "cell_type": "code",
   "execution_count": 32,
   "id": "47769e9d-c05d-4db9-98ae-1908b3190e33",
   "metadata": {},
   "outputs": [
    {
     "data": {
      "text/html": [
       "<div>\n",
       "<style scoped>\n",
       "    .dataframe tbody tr th:only-of-type {\n",
       "        vertical-align: middle;\n",
       "    }\n",
       "\n",
       "    .dataframe tbody tr th {\n",
       "        vertical-align: top;\n",
       "    }\n",
       "\n",
       "    .dataframe thead th {\n",
       "        text-align: right;\n",
       "    }\n",
       "</style>\n",
       "<table border=\"1\" class=\"dataframe\">\n",
       "  <thead>\n",
       "    <tr style=\"text-align: right;\">\n",
       "      <th></th>\n",
       "      <th>typeName</th>\n",
       "      <th>platformName</th>\n",
       "      <th>syntax</th>\n",
       "      <th>objectDumpMap</th>\n",
       "      <th>createdTimestamp</th>\n",
       "      <th>lastUpdatedTimestamp</th>\n",
       "      <th>version</th>\n",
       "    </tr>\n",
       "  </thead>\n",
       "  <tbody>\n",
       "    <tr>\n",
       "      <th>0</th>\n",
       "      <td>function_v2</td>\n",
       "      <td>snowflake</td>\n",
       "      <td>CREATE OR ALTER function &lt;name&gt;(&lt;args&gt;)\\n    RETURNS &lt;return_type&gt;\\n    LANGUAGE &lt;language&gt;\\n    PACKAGES = (&lt;packages&gt;)\\n    runtime_version = &lt;runtime&gt;\\n    HANDLER = '&lt;name&gt;'\\n    AS \\n$$\\n&lt;def&gt;\\n$$;</td>\n",
       "      <td>{'args': {'propType': 'map', 'format': '&lt;key&gt; &lt;value&gt;', 'delimiter': ', '}, 'packages': {'propType': 'list', 'format': ''&lt;item&gt;'', 'delimiter': ', '}}</td>\n",
       "      <td>2025-05-01T15:24:53.720662424Z</td>\n",
       "      <td>2025-05-01T15:24:53.720666049Z</td>\n",
       "      <td>1</td>\n",
       "    </tr>\n",
       "  </tbody>\n",
       "</table>\n",
       "</div>"
      ],
      "text/plain": [
       "      typeName platformName                                                                                                                                                                                                      syntax                                                                                                                                           objectDumpMap                createdTimestamp            lastUpdatedTimestamp  version\n",
       "0  function_v2    snowflake  CREATE OR ALTER function <name>(<args>)\\n    RETURNS <return_type>\\n    LANGUAGE <language>\\n    PACKAGES = (<packages>)\\n    runtime_version = <runtime>\\n    HANDLER = '<name>'\\n    AS \\n$$\\n<def>\\n$$;  {'args': {'propType': 'map', 'format': '<key> <value>', 'delimiter': ', '}, 'packages': {'propType': 'list', 'format': ''<item>'', 'delimiter': ', '}}  2025-05-01T15:24:53.720662424Z  2025-05-01T15:24:53.720666049Z        1"
      ]
     },
     "execution_count": 32,
     "metadata": {},
     "output_type": "execute_result"
    }
   ],
   "source": [
    "catalog.sql(\n",
    "    \"\"\"\n",
    "    ADD OPEN MAPPING function_v2 PLATFORM snowflake\n",
    "    SYNTAX {\n",
    "CREATE OR ALTER function <name>(<args>)\n",
    "    RETURNS <return_type>\n",
    "    LANGUAGE <language>\n",
    "    PACKAGES = (<packages>)\n",
    "    runtime_version = <runtime>\n",
    "    HANDLER = '<name>'\n",
    "    AS \n",
    "$$\n",
    "<def>\n",
    "$$;\n",
    "    }\n",
    "    PROPS {\n",
    "        \"args\": {\n",
    "                \"propType\": \"map\",\n",
    "                \"format\": \"<key> <value>\",\n",
    "                \"delimiter\": \", \"\n",
    "            },\n",
    "        \"packages\": {\"propType\": \"list\", \"format\": \"'<item>'\", \"delimiter\": \", \"}\n",
    "    }\n",
    "    \"\"\"\n",
    ")"
   ]
  },
  {
   "cell_type": "code",
   "execution_count": 33,
   "id": "b10bbc64",
   "metadata": {},
   "outputs": [
    {
     "data": {
      "text/html": [
       "<div>\n",
       "<style scoped>\n",
       "    .dataframe tbody tr th:only-of-type {\n",
       "        vertical-align: middle;\n",
       "    }\n",
       "\n",
       "    .dataframe tbody tr th {\n",
       "        vertical-align: top;\n",
       "    }\n",
       "\n",
       "    .dataframe thead th {\n",
       "        text-align: right;\n",
       "    }\n",
       "</style>\n",
       "<table border=\"1\" class=\"dataframe\">\n",
       "  <thead>\n",
       "    <tr style=\"text-align: right;\">\n",
       "      <th></th>\n",
       "      <th>typeName</th>\n",
       "      <th>platformName</th>\n",
       "      <th>syntax</th>\n",
       "      <th>objectDumpMap</th>\n",
       "      <th>createdTimestamp</th>\n",
       "      <th>lastUpdatedTimestamp</th>\n",
       "      <th>version</th>\n",
       "    </tr>\n",
       "  </thead>\n",
       "  <tbody>\n",
       "    <tr>\n",
       "      <th>0</th>\n",
       "      <td>function_v2</td>\n",
       "      <td>snowflake</td>\n",
       "      <td>CREATE OR ALTER function &lt;name&gt;(&lt;args&gt;)\\n    RETURNS &lt;return_type&gt;\\n    LANGUAGE &lt;language&gt;\\n    PACKAGES = (&lt;packages&gt;)\\n    runtime_version = &lt;runtime&gt;\\n    HANDLER = '&lt;name&gt;'\\n    AS \\n$$\\n&lt;def&gt;\\n$$;</td>\n",
       "      <td>{'args': {'propType': 'map', 'format': '&lt;key&gt; &lt;value&gt;', 'delimiter': ', '}, 'packages': {'propType': 'list', 'format': ''&lt;item&gt;'', 'delimiter': ', '}}</td>\n",
       "      <td>2025-05-01T15:24:53.720662Z</td>\n",
       "      <td>2025-05-01T15:24:53.720666Z</td>\n",
       "      <td>1</td>\n",
       "    </tr>\n",
       "  </tbody>\n",
       "</table>\n",
       "</div>"
      ],
      "text/plain": [
       "      typeName platformName                                                                                                                                                                                                      syntax                                                                                                                                           objectDumpMap             createdTimestamp         lastUpdatedTimestamp  version\n",
       "0  function_v2    snowflake  CREATE OR ALTER function <name>(<args>)\\n    RETURNS <return_type>\\n    LANGUAGE <language>\\n    PACKAGES = (<packages>)\\n    runtime_version = <runtime>\\n    HANDLER = '<name>'\\n    AS \\n$$\\n<def>\\n$$;  {'args': {'propType': 'map', 'format': '<key> <value>', 'delimiter': ', '}, 'packages': {'propType': 'list', 'format': ''<item>'', 'delimiter': ', '}}  2025-05-01T15:24:53.720662Z  2025-05-01T15:24:53.720666Z        1"
      ]
     },
     "execution_count": 33,
     "metadata": {},
     "output_type": "execute_result"
    }
   ],
   "source": [
    "# Show all mappings from <object>. Example: [snowflake,spark]\n",
    "catalog.sql(\n",
    "    \"\"\"\n",
    "    SHOW OPEN PLATFORMS FOR function_v2\n",
    "    \"\"\"\n",
    ")"
   ]
  },
  {
   "cell_type": "code",
   "execution_count": 15,
   "id": "0af51e6c-c141-4cff-bd34-d7fe67528598",
   "metadata": {},
   "outputs": [
    {
     "data": {
      "text/html": [
       "<div>\n",
       "<style scoped>\n",
       "    .dataframe tbody tr th:only-of-type {\n",
       "        vertical-align: middle;\n",
       "    }\n",
       "\n",
       "    .dataframe tbody tr th {\n",
       "        vertical-align: top;\n",
       "    }\n",
       "\n",
       "    .dataframe thead th {\n",
       "        text-align: right;\n",
       "    }\n",
       "</style>\n",
       "<table border=\"1\" class=\"dataframe\">\n",
       "  <thead>\n",
       "    <tr style=\"text-align: right;\">\n",
       "      <th></th>\n",
       "      <th>typeName</th>\n",
       "      <th>platformName</th>\n",
       "      <th>syntax</th>\n",
       "      <th>objectDumpMap</th>\n",
       "      <th>createdTimestamp</th>\n",
       "      <th>lastUpdatedTimestamp</th>\n",
       "      <th>version</th>\n",
       "    </tr>\n",
       "  </thead>\n",
       "  <tbody>\n",
       "    <tr>\n",
       "      <th>0</th>\n",
       "      <td>function_v2</td>\n",
       "      <td>snowflake</td>\n",
       "      <td>CREATE OR ALTER function &lt;name&gt;(&lt;args&gt;)\\n            RETURNS &lt;return_type&gt;\\n            LANGUAGE &lt;language&gt;\\n            PACKAGES = (&lt;packages&gt;)\\n            runtime_version = &lt;runtime&gt;\\n            HANDLER = '&lt;name&gt;'\\n            AS \\n        $$\\n        &lt;def&gt;\\n        $$;</td>\n",
       "      <td>{'args': {'propType': 'map', 'format': '&lt;key&gt; &lt;value&gt;', 'delimiter': ', '}, 'packages': {'propType': 'list', 'format': ''&lt;item&gt;'', 'delimiter': ', '}}</td>\n",
       "      <td>2025-05-01T15:20:52.939571Z</td>\n",
       "      <td>2025-05-01T15:20:52.939575Z</td>\n",
       "      <td>1</td>\n",
       "    </tr>\n",
       "  </tbody>\n",
       "</table>\n",
       "</div>"
      ],
      "text/plain": [
       "      typeName platformName                                                                                                                                                                                                                                                                              syntax                                                                                                                                           objectDumpMap             createdTimestamp         lastUpdatedTimestamp  version\n",
       "0  function_v2    snowflake  CREATE OR ALTER function <name>(<args>)\\n            RETURNS <return_type>\\n            LANGUAGE <language>\\n            PACKAGES = (<packages>)\\n            runtime_version = <runtime>\\n            HANDLER = '<name>'\\n            AS \\n        $$\\n        <def>\\n        $$;  {'args': {'propType': 'map', 'format': '<key> <value>', 'delimiter': ', '}, 'packages': {'propType': 'list', 'format': ''<item>'', 'delimiter': ', '}}  2025-05-01T15:20:52.939571Z  2025-05-01T15:20:52.939575Z        1"
      ]
     },
     "execution_count": 15,
     "metadata": {},
     "output_type": "execute_result"
    }
   ],
   "source": [
    "# Show all mappings from <object>. Example: [snowflake,spark]\n",
    "catalog.sql(\n",
    "    \"\"\"\n",
    "    SHOW OPEN Mapping for snowflake\n",
    "    \"\"\"\n",
    ")"
   ]
  },
  {
   "cell_type": "code",
   "execution_count": 35,
   "id": "9bf544e1-69e2-4954-a01e-fc7f687f8fdd",
   "metadata": {},
   "outputs": [
    {
     "data": {
      "text/markdown": [
       "```json\n",
       "{\n",
       "    \"executions\": [\n",
       "        {\n",
       "            \"sql\": \"CREATE OR ALTER function baz(arg1 int, arg2 int)\\n    RETURNS int\\n    LANGUAGE python\\n    PACKAGES = ('numpy', 'pandas')\\n    runtime_version = 3.12\\n    HANDLER = 'baz'\\n    AS \\n$$\\ndef baz(arg1, arg2):\\n        return arg1 + arg2\\n$$;\",\n",
       "            \"status\": \"executed\"\n",
       "        }\n",
       "    ]\n",
       "}\n",
       "```"
      ],
      "text/plain": [
       "{\n",
       "    \"executions\": [\n",
       "        {\n",
       "            \"sql\": \"CREATE OR ALTER function baz(arg1 int, arg2 int)\\n    RETURNS int\\n    LANGUAGE python\\n    PACKAGES = ('numpy', 'pandas')\\n    runtime_version = 3.12\\n    HANDLER = 'baz'\\n    AS \\n$$\\ndef baz(arg1, arg2):\\n        return arg1 + arg2\\n$$;\",\n",
       "            \"status\": \"executed\"\n",
       "        }\n",
       "    ]\n",
       "}"
      ]
     },
     "execution_count": 35,
     "metadata": {},
     "output_type": "execute_result"
    }
   ],
   "source": [
    "catalog.sql(\n",
    "    \"\"\"\n",
    "    SYNC OPEN function_v2 for snowflake\n",
    "    \"\"\"\n",
    ")"
   ]
  },
  {
   "cell_type": "code",
   "execution_count": 17,
   "id": "21f6d8c7-7dca-49c8-95b3-f3064a442932",
   "metadata": {},
   "outputs": [
    {
     "data": {
      "text/markdown": [
       "```json\n",
       "{\n",
       "    \"executions\": [\n",
       "        {\n",
       "            \"sql\": \"CREATE OR ALTER function baz(arg1 int, arg2 int)\\n            RETURNS int\\n            LANGUAGE python\\n            PACKAGES = ('numpy', 'pandas')\\n            runtime_version = 3.12\\n            HANDLER = 'baz'\\n            AS \\n        $$\\n        def foo(arg1, arg2):\\n\\n        return arg1 + arg2\\n        $$;\",\n",
       "            \"status\": \"failed\",\n",
       "            \"error\": \"100357 (P0000): Python Interpreter Error:\\n  File \\\"_udf_code.py\\\", line 2\\n    def foo(arg1, arg2):\\nIndentationError: unexpected indent\\n in function BAZ with handler baz\"\n",
       "        }\n",
       "    ]\n",
       "}\n",
       "```"
      ],
      "text/plain": [
       "{\n",
       "    \"executions\": [\n",
       "        {\n",
       "            \"sql\": \"CREATE OR ALTER function baz(arg1 int, arg2 int)\\n            RETURNS int\\n            LANGUAGE python\\n            PACKAGES = ('numpy', 'pandas')\\n            runtime_version = 3.12\\n            HANDLER = 'baz'\\n            AS \\n        $$\\n        def foo(arg1, arg2):\\n\\n        return arg1 + arg2\\n        $$;\",\n",
       "            \"status\": \"failed\",\n",
       "            \"error\": \"100357 (P0000): Python Interpreter Error:\\n  File \\\"_udf_code.py\\\", line 2\\n    def foo(arg1, arg2):\\nIndentationError: unexpected indent\\n in function BAZ with handler baz\"\n",
       "        }\n",
       "    ]\n",
       "}"
      ]
     },
     "execution_count": 17,
     "metadata": {},
     "output_type": "execute_result"
    }
   ],
   "source": [
    "catalog.sql(\n",
    "    \"\"\"\n",
    "    SYNC OPEN OBJECTS for snowflake\n",
    "    \"\"\"\n",
    ")"
   ]
  },
  {
   "cell_type": "markdown",
   "id": "472a36f4-d92f-485d-b03c-bc9341b6454d",
   "metadata": {},
   "source": [
    "## Drop object and mapping"
   ]
  },
  {
   "cell_type": "code",
   "execution_count": 27,
   "id": "bbf3dc6f-2a73-4487-9a9a-1d4057a46b34",
   "metadata": {},
   "outputs": [
    {
     "data": {
      "text/html": [
       "<div>\n",
       "<style scoped>\n",
       "    .dataframe tbody tr th:only-of-type {\n",
       "        vertical-align: middle;\n",
       "    }\n",
       "\n",
       "    .dataframe tbody tr th {\n",
       "        vertical-align: top;\n",
       "    }\n",
       "\n",
       "    .dataframe thead th {\n",
       "        text-align: right;\n",
       "    }\n",
       "</style>\n",
       "<table border=\"1\" class=\"dataframe\">\n",
       "  <thead>\n",
       "    <tr style=\"text-align: right;\">\n",
       "      <th></th>\n",
       "      <th>Deleted all objects of type</th>\n",
       "    </tr>\n",
       "  </thead>\n",
       "  <tbody>\n",
       "    <tr>\n",
       "      <th>0</th>\n",
       "      <td>function_v2</td>\n",
       "    </tr>\n",
       "  </tbody>\n",
       "</table>\n",
       "</div>"
      ],
      "text/plain": [
       "  Deleted all objects of type\n",
       "0                 function_v2"
      ]
     },
     "execution_count": 27,
     "metadata": {},
     "output_type": "execute_result"
    }
   ],
   "source": [
    "catalog.sql(\n",
    "    \"\"\"\n",
    "    DROP OPEN function_v2\n",
    "    \"\"\"\n",
    ")"
   ]
  },
  {
   "cell_type": "code",
   "execution_count": 28,
   "id": "d59972de-9587-4f14-8f0b-dafccc9ee4cc",
   "metadata": {},
   "outputs": [
    {
     "data": {
      "text/html": [
       "<div>\n",
       "<style scoped>\n",
       "    .dataframe tbody tr th:only-of-type {\n",
       "        vertical-align: middle;\n",
       "    }\n",
       "\n",
       "    .dataframe tbody tr th {\n",
       "        vertical-align: top;\n",
       "    }\n",
       "\n",
       "    .dataframe thead th {\n",
       "        text-align: right;\n",
       "    }\n",
       "</style>\n",
       "<table border=\"1\" class=\"dataframe\">\n",
       "  <thead>\n",
       "    <tr style=\"text-align: right;\">\n",
       "      <th></th>\n",
       "      <th>Deleted all mappings for platform</th>\n",
       "    </tr>\n",
       "  </thead>\n",
       "  <tbody>\n",
       "    <tr>\n",
       "      <th>0</th>\n",
       "      <td>snowflake</td>\n",
       "    </tr>\n",
       "  </tbody>\n",
       "</table>\n",
       "</div>"
      ],
      "text/plain": [
       "  Deleted all mappings for platform\n",
       "0                         snowflake"
      ]
     },
     "execution_count": 28,
     "metadata": {},
     "output_type": "execute_result"
    }
   ],
   "source": [
    "catalog.sql(\n",
    "    \"\"\"\n",
    "    DROP OPEN MAPPINGS for snowflake\n",
    "    \"\"\"\n",
    ")"
   ]
  }
 ],
 "metadata": {
  "kernelspec": {
   "display_name": "Python 3 (ipykernel)",
   "language": "python",
   "name": "python3"
  },
  "language_info": {
   "codemirror_mode": {
    "name": "ipython",
    "version": 3
   },
   "file_extension": ".py",
   "mimetype": "text/x-python",
   "name": "python",
   "nbconvert_exporter": "python",
   "pygments_lexer": "ipython3",
   "version": "3.10.16"
  }
 },
 "nbformat": 4,
 "nbformat_minor": 5
}
