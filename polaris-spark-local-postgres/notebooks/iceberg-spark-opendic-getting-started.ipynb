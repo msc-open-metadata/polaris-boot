{
 "cells": [
  {
   "cell_type": "markdown",
   "id": "335f8e68",
   "metadata": {},
   "source": [
    "## OpenDict DEMO"
   ]
  },
  {
   "cell_type": "markdown",
   "id": "be599f01",
   "metadata": {},
   "source": [
    "### 1. Install client libraries"
   ]
  },
  {
   "cell_type": "code",
   "execution_count": null,
   "id": "513a3c48-995c-4060-9d61-2a499be0a0b9",
   "metadata": {
    "scrolled": true
   },
   "outputs": [],
   "source": [
    "%pip install pyspark-opendic==0.4.0\n",
    "%pip install snowflake-opendic==0.1.21"
   ]
  },
  {
   "cell_type": "markdown",
   "id": "bf5f5563-2335-4b03-9283-0ed534b8afb2",
   "metadata": {},
   "source": [
    "### 2 Configure spark-iceberg session"
   ]
  },
  {
   "cell_type": "markdown",
   "id": "c3f0f90e-1366-4bf6-a321-6dec01edba40",
   "metadata": {
    "jp-MarkdownHeadingCollapsed": true
   },
   "source": [
    "#### 2.1 read_secret()"
   ]
  },
  {
   "cell_type": "code",
   "execution_count": null,
   "id": "510348f2-c283-4782-b33f-fc3b6c01719d",
   "metadata": {},
   "outputs": [],
   "source": [
    "from pyspark.sql import SparkSession  # type: ignore\n",
    "\n",
    "def read_secret(secret_name):\n",
    "    \"\"\" Get `secret_name` from docker-compose secret store\"\"\"\n",
    "    secret_path = f\"/run/secrets/{secret_name}\"\n",
    "    try:\n",
    "        with open(secret_path, \"r\") as f:\n",
    "            return f.read().strip()  # Remove any trailing newline\n",
    "    except FileNotFoundError:\n",
    "        print(f\"Secret {secret_name} not found.\")\n",
    "        return None"
   ]
  },
  {
   "cell_type": "markdown",
   "id": "9469d74d-1eb9-4126-acfc-44873cb26ef7",
   "metadata": {},
   "source": [
    "#### 2.2 Define session variables"
   ]
  },
  {
   "cell_type": "code",
   "execution_count": null,
   "id": "9308bd06",
   "metadata": {},
   "outputs": [],
   "source": [
    "ENGINEER_CLIENT_ID = read_secret(\"engineer_client_id\")\n",
    "ENGINEER_CLIENT_SECRET =  read_secret(\"engineer_client_secret\")\n",
    "\n",
    "CATALOG_NAME = 'polaris'\n",
    "FILE_IO = \"org.apache.iceberg.io.ResolvingFileIO\"\n",
    "CATALOG_URI = \"http://polaris:8181/api/catalog\"\n",
    "OATH_SERVER_URI = \"http://polaris:8181/api/catalog/v1/oauth/tokens\"\n",
    "\n",
    "# OATH_SERVER_URI = \"https://opendict.duckdns.org/api/catalog/v1/oauth/tokens\"\n",
    "# CATALOG_NAME = 'AZURE_CATALOG'\n",
    "# ADLS_IO=\"org.apache.iceberg.azure.adlsv2.ADLSFileIO\"\n",
    "# CATALOG_URI=\"https://opendict.duckdns.org/api/catalog\"\n"
   ]
  },
  {
   "cell_type": "markdown",
   "id": "9592c90e",
   "metadata": {},
   "source": [
    "#### 2.3 Configure spark session with variables"
   ]
  },
  {
   "cell_type": "code",
   "execution_count": null,
   "id": "8961c31e-19e6-4470-bbae-4611bf76f364",
   "metadata": {},
   "outputs": [],
   "source": [
    "def create_session(client_id, client_secret, scope, fileio_impl, oath_server_uri):\n",
    "    spark = (SparkSession.builder\n",
    "        .config(\"spark.jars.packages\", \"org.apache.iceberg:iceberg-spark-runtime-3.5_2.12:1.7.0,software.amazon.awssdk:bundle:2.28.17,software.amazon.awssdk:url-connection-client:2.28.17\")\n",
    "        .config(\"spark.sql.extensions\", \"org.apache.iceberg.spark.extensions.IcebergSparkSessionExtensions\")\n",
    "        .config(\"spark.sql.catalog.spark_catalog\", \"org.apache.iceberg.spark.SparkSessionCatalog\")\n",
    "        .config(\"spark.sql.catalog.polaris\", \"org.apache.iceberg.spark.SparkCatalog\")\n",
    "        .config(\"spark.sql.catalog.polaris.type\", \"rest\")\n",
    "        .config(\"spark.sql.catalog.polaris.warehouse\", CATALOG_NAME)\n",
    "        .config(\"spark.sql.catalog.polaris.uri\", CATALOG_URI)\n",
    "        .config(\"spark.sql.catalog.polaris.credential\", f\"{client_id}:{client_secret}\")\n",
    "        .config(\"spark.sql.catalog.polaris.scope\", scope)\n",
    "        .config(\"spark.sql.catalog.polaris.auth.type\", \"OAUTH2\")\n",
    "        .config(\"spark.sql.defaultCatalog\", \"polaris\")\n",
    "        .config(\"oauth2-server-uri\", oath_server_uri)\n",
    "        .config(\"spark.driver.extraJavaOptions\", \"-Divy.cache.dir=/tmp -Divy.home=/tmp\")\n",
    "        .config(\"spark.sql.catalog.polaris.token-refresh-enabled\", \"true\")\n",
    "        .config(\"spark.sql.catalog.polaris.header.X-Iceberg-Access-Delegation\", 'vended-credentials')\n",
    "        .config(\"spark.sql.catalog.polaris.io-impl\", fileio_impl)\n",
    "        .config(\"spark.history.fs.logDirectory\", \"/home/iceberg/spark-events\")).getOrCreate()\n",
    "        \n",
    "    print(\"Spark Running\")\n",
    "    return spark\n",
    "\n",
    "\n",
    "## Start Spark Session\n",
    "# spark = create_session(client_id=ENGINEER_CLIENT_ID, client_secret=ENGINEER_CLIENT_SECRET, scope='PRINCIPAL_ROLE:ALL',fileio_impl=ADLS_IO )\n",
    "spark = create_session(client_id=ENGINEER_CLIENT_ID, client_secret=ENGINEER_CLIENT_SECRET, scope='PRINCIPAL_ROLE:ALL',fileio_impl=FILE_IO, oath_server_uri=OATH_SERVER_URI )\n",
    "spark"
   ]
  },
  {
   "cell_type": "markdown",
   "id": "7bbcf250",
   "metadata": {},
   "source": [
    "#### 2.4 Wrap spark session with the opendict-spark library"
   ]
  },
  {
   "cell_type": "code",
   "execution_count": null,
   "id": "27ccb2cb-8448-4111-b2af-bd3b19b92835",
   "metadata": {},
   "outputs": [],
   "source": [
    "from pyspark_opendic.catalog import OpenDicCatalog  # type: ignore\n",
    "\n",
    "# Init opendict client library\n",
    "# API_URI= \"https://opendict.duckdns.org/api\"\n",
    "\n",
    "POLARIS_BASE_URL = \"http://polaris:8181/api\"\n",
    "\n",
    "catalog = OpenDicCatalog(spark, POLARIS_BASE_URL)\n",
    "print(\"Catalog initialized\")"
   ]
  },
  {
   "cell_type": "markdown",
   "id": "192f7adc-e72e-4ae7-b436-4a3f1c7b8e57",
   "metadata": {},
   "source": [
    "### 3. Configure up opendict-snowflake"
   ]
  },
  {
   "cell_type": "code",
   "execution_count": null,
   "id": "e1adddea-72df-4642-a114-c64ab0fddbca",
   "metadata": {
    "jp-MarkdownHeadingCollapsed": true
   },
   "outputs": [],
   "source": [
    "from snowflake_opendic.snow_opendic import snowflake_connect # type: ignore\n",
    "\n",
    "def read_secret(secret_name):\n",
    "    \"\"\" Get `secret_name` from docker-compose secret store\"\"\"\n",
    "    secret_path = f\"/run/secrets/{secret_name}\"\n",
    "    try:\n",
    "        with open(secret_path, \"r\") as f:\n",
    "            return f.read().strip()  # Remove any trailing newline\n",
    "    except FileNotFoundError:\n",
    "        print(f\"Secret {secret_name} not found.\")\n",
    "        return None\n",
    "\n",
    "def snowflake_init_db(conn):\n",
    "    with conn.cursor() as curr:\n",
    "        curr.execute(\"CREATE DATABASE IF NOT EXISTS OPENDIC;\")\n",
    "        curr.execute(\"use OPENDIC;\")\n",
    "        curr.execute(\"CREATE SCHEMA IF NOT EXISTS EXPERIMENT;\")\n",
    "\n",
    "ENGINEER_CLIENT_ID = read_secret(\"engineer_client_id\")\n",
    "ENGINEER_CLIENT_SECRET = read_secret(\"engineer_client_secret\")\n",
    "\n",
    "print(\"Secrets read ✔️\")\n",
    "\n",
    "config_path = f\"/run/secrets/snowflake-conf\"\n",
    "SNOWFLAKE_CONN = snowflake_connect(config_path)\n",
    "snowflake_init_db(SNOWFLAKE_CONN)\n",
    "\n",
    "print(\"Snowflake conn initialized ✔️\")\n",
    "\n",
    "\n",
    "from snowflake_opendic.catalog import OpenDicSnowflakeCatalog\n",
    "\n",
    "\n",
    "POLARIS_URI= \"https://opendict.duckdns.org/api\"\n",
    "\n",
    "snowflake_catalog = OpenDicSnowflakeCatalog(SNOWFLAKE_CONN, POLARIS_URI, ENGINEER_CLIENT_ID, ENGINEER_CLIENT_SECRET)\n",
    "print(\"Catalog initialized ✔️\")"
   ]
  },
  {
   "cell_type": "markdown",
   "id": "806fa1fb-19ac-40be-8d41-7b3dbfb06630",
   "metadata": {},
   "source": [
    "### 4. Scenario and datalake overview"
   ]
  },
  {
   "cell_type": "markdown",
   "id": "8fccda30-924c-45ff-af72-84c9bc624198",
   "metadata": {},
   "source": [
    "#### 4.1 The AZURE DATALAKE"
   ]
  },
  {
   "cell_type": "markdown",
   "id": "8c6853a0",
   "metadata": {},
   "source": [
    "\n",
    "```\n",
    "warehouse/\n",
    "├── SYSTEM/\n",
    "└── nyc/taxis\n",
    "```"
   ]
  },
  {
   "cell_type": "code",
   "execution_count": null,
   "id": "30d98c61-b213-4bcd-b1ee-216dd8be9d0f",
   "metadata": {},
   "outputs": [],
   "source": [
    "spark.sql(\"SHOW NAMESPACES\").toPandas()"
   ]
  },
  {
   "cell_type": "markdown",
   "id": "85e52052-af01-4c4d-8f1a-d62c9697fc3a",
   "metadata": {},
   "source": [
    "#### 4.2 The taxis dataset"
   ]
  },
  {
   "cell_type": "code",
   "execution_count": null,
   "id": "14a9076b",
   "metadata": {},
   "outputs": [],
   "source": [
    "spark.sql(\"\"\"\n",
    "          SELECT tpep_pickup_datetime, tpep_dropoff_datetime, passenger_count, trip_distance, fare_amount \n",
    "          FROM nyc.taxis limit 10\n",
    "          \"\"\").toPandas()"
   ]
  },
  {
   "cell_type": "code",
   "execution_count": null,
   "id": "f51a85fc-15cd-4699-88ca-ac92eff04c4c",
   "metadata": {},
   "outputs": [],
   "source": [
    "spark.sql(\"\"\"\n",
    "          SELECT tpep_pickup_datetime, tpep_dropoff_datetime, passenger_count, trip_distance, usd_to_dkk(fare_amount) \n",
    "          FROM nyc.taxis limit 10\n",
    "          \"\"\").toPandas()"
   ]
  },
  {
   "cell_type": "markdown",
   "id": "bf1be37f-4885-4cb5-8d66-7de075c39663",
   "metadata": {},
   "source": [
    "#### 4.3 Task definition"
   ]
  },
  {
   "cell_type": "markdown",
   "id": "c472e4d7",
   "metadata": {},
   "source": [
    "Translate fare_amount DKK and add a 25% MOMS rate.\n",
    "\n",
    "**Problem**\n",
    "- Access same table in Snowflake and Spark\n",
    "- Want to define once\n",
    "- Want updates to propogate\n",
    "\n",
    "**Solution**: \n",
    "- OpenDict user-defined object\n",
    "- Define, create, map, and sync function between multiple engines."
   ]
  },
  {
   "cell_type": "code",
   "execution_count": null,
   "id": "f39961f6",
   "metadata": {
    "vscode": {
     "languageId": "sql"
    }
   },
   "outputs": [],
   "source": [
    "-- Code example\n",
    "CREATE FUNCTION usd_to_dkk(amount FLOAT)\n",
    "  RETURNS FLOAT\n",
    "  AS\n",
    "  $$\n",
    "    amount * 6.52 * 1.25 \n",
    "  $$"
   ]
  },
  {
   "cell_type": "markdown",
   "id": "354fa57d-4e4b-40e3-b560-afdf7abaadc5",
   "metadata": {
    "jp-MarkdownHeadingCollapsed": true
   },
   "source": [
    "#### 4.4. Define the schema for a OpenDict function object"
   ]
  },
  {
   "cell_type": "code",
   "execution_count": null,
   "id": "99808c3e-7fef-42f6-9a1e-4e44b798c69a",
   "metadata": {},
   "outputs": [],
   "source": [
    "catalog.sql(\n",
    "    \"\"\"\n",
    "    DEFINE OPEN function\n",
    "    props {\n",
    "        \"args\": \"map\",\n",
    "        \"language\": \"string\",\n",
    "        \"def\": \"string\",\n",
    "        \"comment\": \"string\",\n",
    "        \"return_type\": \"string\"\n",
    "    }\n",
    "    \"\"\"\n",
    ")"
   ]
  },
  {
   "cell_type": "markdown",
   "id": "1a117eb1-0929-4e30-9dea-c6980411f991",
   "metadata": {},
   "source": [
    "#### 4.5. Create a new function"
   ]
  },
  {
   "cell_type": "code",
   "execution_count": null,
   "id": "59b83c05-2e49-449c-9fc3-f644acf682c4",
   "metadata": {},
   "outputs": [],
   "source": [
    "catalog.sql(\n",
    " \"\"\"\n",
    " CREATE OPEN function usd_to_dkk\n",
    "    PROPS {\n",
    "            \"args\": {\n",
    "                \"amount\": \"DOUBLE\"\n",
    "                },\n",
    "            \"language\": \"SQL\",\n",
    "            \"def\": \"amount * 6.52 * 1.25\",\n",
    "            \"comment\": \"Conversion function for USD to DKK including VAT\",\n",
    "            \"return_type\": \"DOUBLE\"\n",
    "        }\n",
    "\"\"\"\n",
    ")"
   ]
  },
  {
   "cell_type": "markdown",
   "id": "1bc4ce21-1ded-4e92-8b3a-18f3d2264aa7",
   "metadata": {},
   "source": [
    "#### 4.6. Create Mappings for spark and snowflake"
   ]
  },
  {
   "cell_type": "code",
   "execution_count": null,
   "id": "260d1569-26c2-4a6b-98fd-184eb8ba5aa5",
   "metadata": {},
   "outputs": [],
   "source": [
    "catalog.sql(\n",
    "\"\"\"\n",
    "ADD OPEN MAPPING function PLATFORM spark\n",
    "SYNTAX {\n",
    "    CREATE <type> <name>(<args>)\n",
    "    RETURNS <return_type>\n",
    "    LANGUAGE <language>\n",
    "    AS 'RETURN <def>';\n",
    "}\n",
    "PROPS {\n",
    "    \"args\": {\n",
    "            \"propType\": \"map\",\n",
    "            \"format\": \"<key> <value>\",\n",
    "            \"delimiter\": \", \"\n",
    "        }\n",
    "}\n",
    "\"\"\"\n",
    ")"
   ]
  },
  {
   "cell_type": "code",
   "execution_count": null,
   "id": "3023dc59-10d0-42fe-8fa8-c9662c9b2078",
   "metadata": {},
   "outputs": [],
   "source": [
    "catalog.sql(\n",
    "\"\"\"\n",
    "ADD OPEN MAPPING function PLATFORM snowflake\n",
    "SYNTAX {\n",
    "CREATE OR REPLACE <type> <name>(<args>)\n",
    "RETURNS <return_type>\n",
    "LANGUAGE <language>\n",
    "AS \n",
    "$$\n",
    "<def>\n",
    "$$;\n",
    "}\n",
    "PROPS {\n",
    "    \"args\": {\n",
    "            \"propType\": \"map\",\n",
    "            \"format\": \"<key> <value>\",\n",
    "            \"delimiter\": \", \"\n",
    "        }\n",
    "}\n",
    "\"\"\"\n",
    ")"
   ]
  },
  {
   "cell_type": "markdown",
   "id": "31fc56e5-ab65-4e4d-b9a4-e3926f1c047a",
   "metadata": {},
   "source": [
    "#### 4.7 Sync to engines"
   ]
  },
  {
   "cell_type": "code",
   "execution_count": null,
   "id": "1f252c14-5da5-405c-ad0c-e9bfa8e2b53b",
   "metadata": {},
   "outputs": [],
   "source": [
    "catalog.sql(\n",
    "    \"\"\"\n",
    "    SYNC OPEN OBJECTS for spark\n",
    "    \"\"\"\n",
    ")"
   ]
  },
  {
   "cell_type": "code",
   "execution_count": null,
   "id": "56541e98-2376-4f30-a11b-f90589510f5c",
   "metadata": {
    "scrolled": true
   },
   "outputs": [],
   "source": [
    "snowflake_catalog.sql(\n",
    "    \"\"\"\n",
    "    SYNC OPEN OBJECTS for snowflake\n",
    "    \"\"\"\n",
    ")"
   ]
  },
  {
   "cell_type": "markdown",
   "id": "57a35328",
   "metadata": {},
   "source": [
    "### Utils"
   ]
  },
  {
   "cell_type": "markdown",
   "id": "5b019448-2b04-4063-a812-bb598122ef04",
   "metadata": {
    "jp-MarkdownHeadingCollapsed": true
   },
   "source": [
    "#### List objects"
   ]
  },
  {
   "cell_type": "code",
   "execution_count": null,
   "id": "6b13db8f-0e7c-4e0b-8b88-ba092fe91530",
   "metadata": {},
   "outputs": [],
   "source": [
    "catalog.sql(\n",
    "    \"\"\"\n",
    "    SHOW OPEN TYPES\n",
    "    \"\"\"\n",
    ")"
   ]
  },
  {
   "cell_type": "code",
   "execution_count": null,
   "id": "09d6a8bb-2989-4873-a8b4-e78416aea85f",
   "metadata": {},
   "outputs": [],
   "source": [
    "catalog.sql(\n",
    "    \"\"\"\n",
    "    SHOW OPEN function\n",
    "    \"\"\"\n",
    ")"
   ]
  },
  {
   "cell_type": "code",
   "execution_count": null,
   "id": "a08a0829-e1bc-40a4-b2e9-583369bc2785",
   "metadata": {},
   "outputs": [],
   "source": [
    "# Show mapping for <object> to <platform>. Example: [Platform_mapping(function_v2 -> snowflake)]\n",
    "catalog.sql(\n",
    "    \"\"\"\n",
    "    SHOW OPEN MAPPING function_v2 PLATFORM snowflake\n",
    "    \"\"\"\n",
    ")"
   ]
  },
  {
   "cell_type": "code",
   "execution_count": null,
   "id": "465f2f0d-4042-4304-92e7-9b08b1154757",
   "metadata": {},
   "outputs": [],
   "source": [
    "# Show all mappings from <object>. Example: [snowflake,spark]\n",
    "catalog.sql(\n",
    "    \"\"\"\n",
    "    SHOW OPEN PLATFORMS FOR function\n",
    "    \"\"\"\n",
    ")"
   ]
  },
  {
   "cell_type": "code",
   "execution_count": null,
   "id": "d38ccc6c-fac8-4d6c-a9d6-a556d5a91037",
   "metadata": {},
   "outputs": [],
   "source": [
    "catalog.sql(\n",
    "    \"\"\"\n",
    "    SHOW OPEN PLATFORMS\n",
    "    \"\"\"\n",
    ")"
   ]
  },
  {
   "cell_type": "code",
   "execution_count": null,
   "id": "4e9d02df-c4f4-46f4-b707-99d3d2869d1e",
   "metadata": {},
   "outputs": [],
   "source": [
    "catalog.sql(\n",
    "    \"\"\"\n",
    "    SHOW OPEN MAPPINGS FOR snowflake\n",
    "    \"\"\"\n",
    ")"
   ]
  },
  {
   "cell_type": "code",
   "execution_count": null,
   "id": "ac2991f5-6099-4bc0-9e64-dda501c6104f",
   "metadata": {},
   "outputs": [],
   "source": [
    "catalog.sql(\n",
    "    \"\"\"\n",
    "    SYNC OPEN function_v2 for snowflake\n",
    "    \"\"\"\n",
    ")"
   ]
  },
  {
   "cell_type": "code",
   "execution_count": null,
   "id": "e18be6e2-30ca-44ae-af80-da349d61916d",
   "metadata": {},
   "outputs": [],
   "source": [
    "catalog.sql(\n",
    "    \"\"\"\n",
    "    SYNC OPEN OBJECTS for snowflake\n",
    "    \"\"\"\n",
    ")"
   ]
  },
  {
   "cell_type": "markdown",
   "id": "2a13475c-abcc-4bed-96d5-0d9044aee319",
   "metadata": {
    "jp-MarkdownHeadingCollapsed": true
   },
   "source": [
    "#### Drop objects"
   ]
  },
  {
   "cell_type": "code",
   "execution_count": null,
   "id": "62ba6692-c3a3-45e8-b1a6-a7d33697a990",
   "metadata": {},
   "outputs": [],
   "source": [
    "catalog.sql(\n",
    "    \"\"\"\n",
    "    DROP OPEN function\n",
    "    \"\"\"\n",
    ")\n"
   ]
  },
  {
   "cell_type": "code",
   "execution_count": null,
   "id": "159960df-32ec-4d43-a16a-86e32780e4a8",
   "metadata": {},
   "outputs": [],
   "source": [
    "catalog.sql(\n",
    "    \"\"\"\n",
    "    DROP OPEN MAPPINGS for snowflake\n",
    "    \"\"\"\n",
    ")\n"
   ]
  },
  {
   "cell_type": "code",
   "execution_count": null,
   "id": "485cef78",
   "metadata": {},
   "outputs": [],
   "source": [
    "catalog.sql(\n",
    "    \"\"\"\n",
    "    DROP OPEN MAPPINGS for spark\n",
    "    \"\"\"\n",
    ")"
   ]
  },
  {
   "cell_type": "markdown",
   "id": "69f67035-aa7b-4eab-8ba0-7e7132c68106",
   "metadata": {
    "jp-MarkdownHeadingCollapsed": true
   },
   "source": [
    "#### Visualize opendic tables"
   ]
  },
  {
   "cell_type": "code",
   "execution_count": null,
   "id": "66730eb2-aa42-42b5-8f15-f6fb6c3908d9",
   "metadata": {},
   "outputs": [],
   "source": [
    "%%sql\n",
    "show tables in SYSTEM"
   ]
  },
  {
   "cell_type": "code",
   "execution_count": 49,
   "id": "7c3755f8",
   "metadata": {},
   "outputs": [
    {
     "data": {
      "text/html": [
       "<table>\n",
       "    <thead>\n",
       "        <tr>\n",
       "            <th>namespace</th>\n",
       "        </tr>\n",
       "    </thead>\n",
       "    <tbody>\n",
       "        <tr>\n",
       "            <td>SYSTEM.PLATFORM_MAPPINGS</td>\n",
       "        </tr>\n",
       "    </tbody>\n",
       "</table>"
      ],
      "text/plain": [
       "+--------------------------+\n",
       "|                namespace |\n",
       "+--------------------------+\n",
       "| SYSTEM.PLATFORM_MAPPINGS |\n",
       "+--------------------------+"
      ]
     },
     "execution_count": 49,
     "metadata": {},
     "output_type": "execute_result"
    }
   ],
   "source": [
    "%%sql\n",
    "show namespaces in SYSTEM"
   ]
  },
  {
   "cell_type": "code",
   "execution_count": null,
   "id": "1dbb219f-304b-47c3-91b1-6bf220580183",
   "metadata": {},
   "outputs": [],
   "source": [
    "%%sql\n",
    "USE SYSTEM"
   ]
  },
  {
   "cell_type": "code",
   "execution_count": null,
   "id": "2365f5c0-5d66-4330-8602-f665a5ffee82",
   "metadata": {},
   "outputs": [],
   "source": [
    "%%sql\n",
    "select * from SYSTEM.function"
   ]
  },
  {
   "cell_type": "code",
   "execution_count": null,
   "id": "930682ce",
   "metadata": {},
   "outputs": [],
   "source": [
    "%%sql\n",
    "\n",
    "CREATE DATABASE IF NOT EXISTS nyc"
   ]
  },
  {
   "cell_type": "code",
   "execution_count": null,
   "id": "f918310a",
   "metadata": {},
   "outputs": [],
   "source": [
    "%%sql\n",
    "\n",
    "DROP TABLE IF EXISTS nyc.taxis"
   ]
  },
  {
   "cell_type": "code",
   "execution_count": null,
   "id": "1c37ca92",
   "metadata": {},
   "outputs": [],
   "source": [
    "df = spark.read.parquet(\"/home/iceberg/data/yellow_tripdata_2021-04.parquet\")\n",
    "df.write.saveAsTable(\"nyc.taxis\")"
   ]
  },
  {
   "cell_type": "code",
   "execution_count": null,
   "id": "602cb02b-b5ee-4a2f-be39-030671dcb509",
   "metadata": {},
   "outputs": [],
   "source": [
    "%%sql\n",
    "\n",
    "SELECT *\n",
    "FROM nyc.taxis limit 10"
   ]
  },
  {
   "cell_type": "code",
   "execution_count": null,
   "id": "61a003d4",
   "metadata": {},
   "outputs": [],
   "source": []
  }
 ],
 "metadata": {
  "kernelspec": {
   "display_name": "Python 3 (ipykernel)",
   "language": "python",
   "name": "python3"
  },
  "language_info": {
   "codemirror_mode": {
    "name": "ipython",
    "version": 3
   },
   "file_extension": ".py",
   "mimetype": "text/x-python",
   "name": "python",
   "nbconvert_exporter": "python",
   "pygments_lexer": "ipython3",
   "version": "3.10.16"
  }
 },
 "nbformat": 4,
 "nbformat_minor": 5
}
